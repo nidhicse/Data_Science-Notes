{
 "cells": [
  {
   "cell_type": "code",
   "execution_count": 71,
   "id": "688fdeec",
   "metadata": {},
   "outputs": [
    {
     "name": "stdout",
     "output_type": "stream",
     "text": [
      "[1 2 3 4 5]   (5,)   1   int64\n",
      "[[ 1  2  3  4]\n",
      " [ 5  6  7  8]\n",
      " [ 9 10 11 12]]   (3, 4)   2\n",
      "[[0. 0. 0.]\n",
      " [0. 0. 0.]]\n",
      "[[1. 1. 1. 1.]\n",
      " [1. 1. 1. 1.]\n",
      " [1. 1. 1. 1.]]   float64\n",
      "[[0. 0. 0.]\n",
      " [0. 0. 0.]]   float64\n",
      "[[4.4e-323 4.9e-323 5.4e-323 5.9e-323]\n",
      " [6.4e-323 6.9e-323 7.4e-323 7.9e-323]]   float64\n",
      "arrays obtained from full:  [[7 7 7]\n",
      " [7 7 7]]\n"
     ]
    }
   ],
   "source": [
    "import numpy as np\n",
    "#different ways to create an nd array:\n",
    "#using array() function\n",
    "a=np.array([1,2,3,4,5])\n",
    "print(a,\" \",a.shape,\" \",a.ndim,\" \",a.dtype)\n",
    "b=np.array([[1,2,3,4],[5,6,7,8],[9,10,11,12]])\n",
    "print(b,\" \",b.shape,\" \",b.ndim)\n",
    "#Creating 3-d arrays\n",
    "#using zeroes() function\n",
    "a=np.zeros((2,3))\n",
    "print(a)\n",
    "#using ones function\n",
    "b=np.ones((3,4))\n",
    "print(b,\" \",b.dtype)\n",
    "#using empty() function. It creates an empty array without initialising its values to any particular value.\n",
    "c=np.empty((2,3))\n",
    "print(c,\" \",c.dtype)\n",
    "#All the 3 functions ones(),zeros() and empty() take shape of an array as the argument\n",
    "#It is not necessary that empty() will always return an array with zeroes as the value, sometimes it may \n",
    "#return an array with garbage values\n",
    "d=np.empty((2,4))\n",
    "print(d,\" \",d.dtype)\n",
    "a=np.full((2,3),7)\n",
    "print(\"arrays obtained from full: \",a)"
   ]
  },
  {
   "cell_type": "code",
   "execution_count": 76,
   "id": "461b1125",
   "metadata": {},
   "outputs": [
    {
     "name": "stdout",
     "output_type": "stream",
     "text": [
      "[1 2 3 4 5]   1   int64\n",
      "b obtained after using asarray function:  [[1 2 3 4]\n",
      " [5 6 7 8]]\n",
      "After passing an array to asarray function:  [2.  2.6 3.2 3.8 4.4 5. ]\n",
      "c obtained after using asarray function:  [[1 2 3]\n",
      " [4 5 6]\n",
      " [7 8 9]]\n",
      "[[0 0 0 0]\n",
      " [0 0 0 0]]\n",
      "[[[1 1 1]\n",
      "  [1 1 1]]\n",
      "\n",
      " [[1 1 1]\n",
      "  [1 1 1]]]\n",
      "[[[ 1  2  3]\n",
      "  [ 4  5  6]]\n",
      "\n",
      " [[ 7  8  9]\n",
      "  [10 11 12]]]\n"
     ]
    }
   ],
   "source": [
    "# when the dtype of an array is not specified, the datatype is set to float64(floating point) by default\n",
    "a=np.array([1,2,3,4,5],dtype=\"int64\")\n",
    "print(a,\" \",a.ndim,\" \",a.dtype)\n",
    "#asarray() converts the input to an array, but does not copy if the input in already an array\n",
    "b=np.asarray(([1,2,3,4],[5,6,7,8]),dtype=\"int64\")\n",
    "print(\"b obtained after using asarray function: \",b)\n",
    "c=np.asarray(((1,2,3),(4,5,6),(7,8,9)))\n",
    "d=np.linspace(2,5,6)\n",
    "print(\"After passing an array to asarray function: \",np.asarray(d))\n",
    "print(\"c obtained after using asarray function: \",c)\n",
    "#zeros_like(),ones_like() and empty_like create arrays of corresponding types according to the shape and \n",
    "#dtype of the arrays given in the input\n",
    "print(np.zeros_like([[1,2,3,4],[5,6,7,8]]))\n",
    "print(np.ones_like([[[1,2,3],[4,5,6]],[[7,8,9],[10,11,12]]]))\n",
    "print(np.empty_like([[[1,2,3],[4,5,6]],[[7,8,9],[10,11,12]]]))"
   ]
  },
  {
   "cell_type": "code",
   "execution_count": 23,
   "id": "6a3815aa",
   "metadata": {},
   "outputs": [
    {
     "name": "stdout",
     "output_type": "stream",
     "text": [
      "[0 1 2 3 4 5 6 7 8 9]   1   (10,)\n",
      "[2.         2.44444444 2.88888889 3.33333333 3.77777778 4.22222222\n",
      " 4.66666667 5.11111111 5.55555556 6.        ]   1   (10,)\n"
     ]
    }
   ],
   "source": [
    "#np.arange() and np.linspace() is used to create 1-d arrays.\n",
    "#arange() is the array equivalent version of the python built-in range() function which creates an array with the \n",
    "#values in the range specified as an input to the range function.\n",
    "#linspace() is the function which creates an array with the no. of values specified equally spaced between the \n",
    "#starting and the ending position.\n",
    "a=np.arange(10)\n",
    "b=np.linspace(2,6,10)\n",
    "print(a,\" \",a.ndim,\" \",a.shape)\n",
    "print(b,\" \",b.ndim,\" \",b.shape)"
   ]
  },
  {
   "cell_type": "code",
   "execution_count": 32,
   "id": "c46ca855",
   "metadata": {},
   "outputs": [
    {
     "name": "stdout",
     "output_type": "stream",
     "text": [
      "[[1. 0. 0. 0.]\n",
      " [0. 1. 0. 0.]\n",
      " [0. 0. 1. 0.]]\n",
      "[[1 0 0 0]\n",
      " [0 2 0 0]\n",
      " [0 0 3 0]\n",
      " [0 0 0 4]]\n",
      "[[0 0 1 0 0]\n",
      " [0 0 0 2 0]\n",
      " [0 0 0 0 3]\n",
      " [0 0 0 0 0]\n",
      " [0 0 0 0 0]]\n",
      "Diagnol elements are:\n",
      "[ 1  6 11]\n"
     ]
    },
    {
     "data": {
      "text/plain": [
       "array([[0, 1],\n",
       "       [1, 1],\n",
       "       [2, 1],\n",
       "       [3, 1],\n",
       "       [4, 1],\n",
       "       [5, 1],\n",
       "       [6, 1],\n",
       "       [7, 1],\n",
       "       [8, 1],\n",
       "       [9, 1]])"
      ]
     },
     "execution_count": 32,
     "metadata": {},
     "output_type": "execute_result"
    }
   ],
   "source": [
    "#2-d array creation functions are: eye(),diag() and vander()\n",
    "#eye() gives the identity matrix(1 as the diagnol elements and rest are zero) of the specified shape\n",
    "a=np.eye(3,4)\n",
    "print(a)\n",
    "#diag() creates an array with the given elements as diagnol elements and if an array is passed as as input,then a\n",
    "#1-d array is returned with values as the diagnol elements of the passed 2-d array\n",
    "b=np.diag([1,2,3,4])\n",
    "print(b)\n",
    "c=np.diag((1,2,3),2)\n",
    "print(c)\n",
    "d=np.array([[1,2,3,4],[5,6,7,8],[9,10,11,12]])\n",
    "print(\"Diagnol elements are:\")\n",
    "print(np.diag(d))\n",
    "#vander(x,n) defines a vandermonte matrix as a 2-d numpy array\n",
    "d=np.vander(np.arange(10),2)\n",
    "d"
   ]
  },
  {
   "cell_type": "code",
   "execution_count": 36,
   "id": "17b10974",
   "metadata": {},
   "outputs": [
    {
     "name": "stdout",
     "output_type": "stream",
     "text": [
      "Sum:  [[10 12]\n",
      " [14 16]\n",
      " [18 20]\n",
      " [22 24]]\n",
      "Product:  [[  9  20]\n",
      " [ 33  48]\n",
      " [ 65  84]\n",
      " [105 128]]\n",
      "Division:  [[0.11111111 0.2       ]\n",
      " [0.27272727 0.33333333]\n",
      " [0.38461538 0.42857143]\n",
      " [0.46666667 0.5       ]]\n",
      "[[0.11111111 0.1       ]\n",
      " [0.09090909 0.08333333]\n",
      " [0.07692308 0.07142857]\n",
      " [0.06666667 0.0625    ]]\n",
      "[[ 4  8]\n",
      " [12 16]\n",
      " [20 24]\n",
      " [28 32]]\n"
     ]
    }
   ],
   "source": [
    "#Arrays provide a way for batch operations on data without using any for loops.This is known as vectorization.\n",
    "#In equal sized arrays, the operations are applied element wise.\n",
    "#When arithmetic opeartions are applied between unequal sized arrays, it is known as broadcasting.\n",
    "a=np.array([[1,2],[3,4],[5,6],[7,8]])\n",
    "b=np.array([[9,10],[11,12],[13,14],[15,16]])\n",
    "print(\"Sum: \",a+b)\n",
    "print(\"Product: \",a*b)\n",
    "print(\"Division: \",a/b)\n",
    "print(1/b)\n",
    "print(4*a)"
   ]
  },
  {
   "cell_type": "code",
   "execution_count": 51,
   "id": "de1ba015",
   "metadata": {},
   "outputs": [
    {
     "name": "stdout",
     "output_type": "stream",
     "text": [
      "[[4 5]\n",
      " [5 6]]\n",
      "[[1 2]\n",
      " [4 5]]\n",
      "Shape:  (2, 2, 2)   dimensions:  3 size of the array:  8   datatype of the array:  int64\n",
      "[[6 7]\n",
      " [5 6]]\n",
      "7\n"
     ]
    }
   ],
   "source": [
    "#arithmetic operations\n",
    "data=(((1,2),(4,5)),((6,7),(5,6)))\n",
    "arr=np.array(data)\n",
    "print(arr[:,1])\n",
    "print(arr[0,:])\n",
    "print(\"Shape: \",arr.shape,\" \",\"dimensions: \",arr.ndim,\"size of the array: \",arr.size,\" \",\"datatype of the array: \",arr.dtype)\n",
    "print(arr[1])\n",
    "print(arr[-1,0,1])"
   ]
  },
  {
   "cell_type": "code",
   "execution_count": 46,
   "id": "a9064521",
   "metadata": {},
   "outputs": [
    {
     "name": "stdout",
     "output_type": "stream",
     "text": [
      "[3 4]\n",
      "[2 4 6 8]\n",
      "[1 2]\n",
      "[7 8]\n",
      "[5 6]\n"
     ]
    }
   ],
   "source": [
    "arr1=np.array([[1,2],[3,4],[5,6],[7,8]])\n",
    "print(arr1[1])\n",
    "print(arr1[:,1])\n",
    "print(arr1[0,:])\n",
    "print(arr1[-1])\n",
    "print(arr1[-2])"
   ]
  },
  {
   "cell_type": "code",
   "execution_count": 52,
   "id": "7c03f395",
   "metadata": {},
   "outputs": [
    {
     "data": {
      "text/plain": [
       "array([[1, 2],\n",
       "       [3, 4]])"
      ]
     },
     "execution_count": 52,
     "metadata": {},
     "output_type": "execute_result"
    }
   ],
   "source": [
    "arr2=np.array([[1,2],[3,4]])\n",
    "arr2"
   ]
  },
  {
   "cell_type": "code",
   "execution_count": 53,
   "id": "a3fd097a",
   "metadata": {},
   "outputs": [
    {
     "data": {
      "text/plain": [
       "array([2, 4])"
      ]
     },
     "execution_count": 53,
     "metadata": {},
     "output_type": "execute_result"
    }
   ],
   "source": [
    "arr2[:,1]"
   ]
  },
  {
   "cell_type": "code",
   "execution_count": 55,
   "id": "c47c4ae1",
   "metadata": {},
   "outputs": [
    {
     "data": {
      "text/plain": [
       "array([1, 2])"
      ]
     },
     "execution_count": 55,
     "metadata": {},
     "output_type": "execute_result"
    }
   ],
   "source": [
    "arr2[0,:]"
   ]
  },
  {
   "cell_type": "code",
   "execution_count": 60,
   "id": "3de5c1c9",
   "metadata": {},
   "outputs": [
    {
     "data": {
      "text/plain": [
       "2"
      ]
     },
     "execution_count": 60,
     "metadata": {},
     "output_type": "execute_result"
    }
   ],
   "source": [
    "arr2[-2,1]"
   ]
  },
  {
   "cell_type": "code",
   "execution_count": 61,
   "id": "96d3b577",
   "metadata": {},
   "outputs": [
    {
     "data": {
      "text/plain": [
       "2"
      ]
     },
     "execution_count": 61,
     "metadata": {},
     "output_type": "execute_result"
    }
   ],
   "source": [
    "arr2[0][1]"
   ]
  },
  {
   "cell_type": "code",
   "execution_count": 63,
   "id": "7a09279e",
   "metadata": {},
   "outputs": [
    {
     "data": {
      "text/plain": [
       "array([3, 4])"
      ]
     },
     "execution_count": 63,
     "metadata": {},
     "output_type": "execute_result"
    }
   ],
   "source": [
    "arr2[-1][:]"
   ]
  },
  {
   "cell_type": "raw",
   "id": "c1a8eb3e",
   "metadata": {},
   "source": [
    "a1=np.array([[1,2],[3,4]])\n",
    "a2=np.array([[5,6],[7,8]])\n",
    "print(np.add(a1,a2))\n",
    "print(np.subtract(a1,a2))\n",
    "print(np.multiply(a1,a2))\n",
    "print(np.divide(a1,a2))\n",
    "print(a1**2)\n",
    "print(np.power(a1,a2))\n",
    "print(np.power(a2,3))"
   ]
  },
  {
   "cell_type": "code",
   "execution_count": 5,
   "id": "bf4f720b",
   "metadata": {},
   "outputs": [
    {
     "name": "stdout",
     "output_type": "stream",
     "text": [
      "[[ 6  8]\n",
      " [10 12]]\n",
      "[[-4 -4]\n",
      " [-4 -4]]\n",
      "[[ 5 12]\n",
      " [21 32]]\n",
      "[[0.2        0.33333333]\n",
      " [0.42857143 0.5       ]]\n",
      "[[ 1  4]\n",
      " [ 9 16]]\n",
      "[[    1    64]\n",
      " [ 2187 65536]]\n",
      "[[125 216]\n",
      " [343 512]]\n"
     ]
    }
   ],
   "source": [
    "a1=np.array([[1,2],[3,4]])\n",
    "a2=np.array([[5,6],[7,8]])\n",
    "print(np.add(a1,a2))\n",
    "print(np.subtract(a1,a2))\n",
    "print(np.multiply(a1,a2))\n",
    "print(np.divide(a1,a2))\n",
    "print(a1**2)\n",
    "print(np.power(a1,a2))\n",
    "print(np.power(a2,3))"
   ]
  },
  {
   "cell_type": "code",
   "execution_count": 33,
   "id": "7c603786",
   "metadata": {},
   "outputs": [
    {
     "name": "stdout",
     "output_type": "stream",
     "text": [
      "concatenation of 1-d arrays:  [1 2 3 4 5 6 7 8]\n",
      "arr3:  [[50 50 50]\n",
      " [50 50 50]]    arr4:  [[1. 1. 1.]\n",
      " [1. 1. 1.]]\n",
      "no. of dimensions in arr3:  2\n",
      "concatenation of 2-d arrays:  [[50. 50. 50.  1.  1.  1.]\n",
      " [50. 50. 50.  1.  1.  1.]]\n",
      "appending 1-d arrays:  [1 2 3 4 5 6 7 8]\n",
      "appending 2-d arrays:  [[50. 50. 50.  1.  1.  1.]\n",
      " [50. 50. 50.  1.  1.  1.]]\n",
      "insertion in 1-d arrays:  [1 5 6 7 8 2 3 4]\n",
      "insertion in 2-d arrays:  [[50  4 50 50]\n",
      " [50  5 50 50]]\n",
      "insertion in 2-d arrays:  [[1. 1. 1.]\n",
      " [4. 5. 6.]\n",
      " [1. 1. 1.]]\n",
      "use of hstack:  [[ 1  2  3  7  8  9]\n",
      " [ 4  5  6 10 11 12]]\n",
      "use of vstack:  [[ 1  2  3]\n",
      " [ 4  5  6]\n",
      " [ 7  8  9]\n",
      " [10 11 12]]\n",
      "use of column stack:  [[ 1  2  3  7  8  9]\n",
      " [ 4  5  6 10 11 12]]\n",
      "use of stack:  [[[ 1  2  3]\n",
      "  [ 4  5  6]]\n",
      "\n",
      " [[ 7  8  9]\n",
      "  [10 11 12]]]\n",
      "use of dstack:  [[[ 1  7]\n",
      "  [ 2  8]\n",
      "  [ 3  9]]\n",
      "\n",
      " [[ 4 10]\n",
      "  [ 5 11]\n",
      "  [ 6 12]]]\n"
     ]
    }
   ],
   "source": [
    "#joining arrays functions in numpy\n",
    "#using concatenate function\n",
    "arr1=np.array([1,2,3,4])\n",
    "arr2=np.array([5,6,7,8])\n",
    "print(\"concatenation of 1-d arrays: \",np.concatenate((arr1,arr2),axis=0))\n",
    "arr3=np.full((2,3),50)\n",
    "arr4=np.ones((2,3))\n",
    "print(\"arr3: \",arr3,\"  \",\"arr4: \",arr4)\n",
    "print(\"no. of dimensions in arr3: \",arr3.ndim)\n",
    "print(\"concatenation of 2-d arrays: \",np.concatenate((arr3,arr4),axis=1))\n",
    "#using append function\n",
    "print(\"appending 1-d arrays: \",np.append(arr1,arr2))\n",
    "print(\"appending 2-d arrays: \",np.append(arr3,arr4,axis=1))\n",
    "#using insert function\n",
    "print(\"insertion in 1-d arrays: \",np.insert(arr1,1,arr2))\n",
    "print(\"insertion in 2-d arrays: \",np.insert(arr3,1,[4,5],axis=1))\n",
    "print(\"insertion in 2-d arrays: \",np.insert(arr4,1,[4,5,6],axis=0))\n",
    "a=np.array([(1,2,3),(4,5,6)])\n",
    "b=np.array([(7,8,9),(10,11,12)])\n",
    "print(\"use of hstack: \",np.hstack((a,b)))\n",
    "print(\"use of vstack: \",np.vstack((a,b)))\n",
    "print(\"use of column stack: \",np.column_stack((a,b)))\n",
    "print(\"use of stack: \",np.stack((a,b)))\n",
    "print(\"use of dstack: \",np.dstack((a,b)))"
   ]
  },
  {
   "cell_type": "code",
   "execution_count": 106,
   "id": "8ac85fba",
   "metadata": {},
   "outputs": [
    {
     "name": "stdout",
     "output_type": "stream",
     "text": [
      "[[1 2 3]\n",
      " [4 5 6]]\n",
      "[[ 2.   3.6  5.2]\n",
      " [ 6.8  8.4 10. ]]\n",
      "[4.00000000e+00 1.26992084e+01 4.03174736e+01 1.28000000e+02\n",
      " 4.06374669e+02 1.29015916e+03 4.09600000e+03]\n"
     ]
    }
   ],
   "source": [
    "a=np.array([1,2,3,4,5,6])\n",
    "print(a.reshape(2,3))\n",
    "print(np.linspace(2,10,6).reshape(2,-1))\n",
    "#logspace returns specified no. of points evenly spaced on a logarithmic scale\n",
    "print(np.logspace(2,12,num=7,base=2))"
   ]
  },
  {
   "cell_type": "code",
   "execution_count": 138,
   "id": "dda3132c",
   "metadata": {},
   "outputs": [
    {
     "name": "stdout",
     "output_type": "stream",
     "text": [
      "interpreting a as an array [1 2 3 4 5 6 7 8]\n",
      "interpreting b as an array [1635017028 1768125216 1701015141  544434464 1702240353]\n",
      "[0 1 2 3 4]\n",
      "[  0   1   8  27  64 125 216 343 512 729]\n",
      "[0 3 6 9]\n"
     ]
    }
   ],
   "source": [
    "#fromiter creates a 1-d array from an iterable object providing data to fill the array.\n",
    "#frombuffer creates a 1-d array from any buffer-like object.\n",
    "buffer = b'\\x01\\x02\\x03\\x04\\x05\\x06\\x07\\x08'\n",
    "# Create an array from the buffer, interpreting it as integers\n",
    "a = np.frombuffer(buffer, dtype=\"int8\")\n",
    "print(\"interpreting a as an array\",a)  # Output: [1 2 3 4 5 6 7 8]\n",
    "b=b'Data science is a very important field'\n",
    "print(\"interpreting b as an array\",np.frombuffer(b,dtype=\"uint32\",count=5))\n",
    "a=range(10)\n",
    "print(np.fromiter(a,dtype=np.int32,count=5))\n",
    "iterable=(x**3 for x in range(10)) #list comprehension\n",
    "print(np.fromiter(iterable,dtype=\"int64\"))\n",
    "l1=(i for i in range(0,12,3))\n",
    "print(np.fromiter(l1,dtype=\"int32\"))\n"
   ]
  },
  {
   "cell_type": "code",
   "execution_count": 127,
   "id": "6919903b",
   "metadata": {},
   "outputs": [
    {
     "name": "stdout",
     "output_type": "stream",
     "text": [
      "mean of l1:  3.0\n",
      "median of l1:  3.0\n",
      "std deviation of l1:  1.4142135623730951\n",
      "variance of l1:  2.0\n",
      "25th quartile of l1 2.0\n",
      "mean of l2:  122.0\n",
      "median of l2:  3.0\n",
      "std deviation of l2:  239.00209204105306\n",
      "variance of l2:  57122.0\n",
      "75th quartile of l2:  4.0\n"
     ]
    }
   ],
   "source": [
    "#numpy statistical functions\n",
    "l1=[1,2,3,4,5] #list\n",
    "print(\"mean of l1: \",np.mean(l1))\n",
    "print(\"median of l1: \",np.median(l1))\n",
    "print(\"std deviation of l1: \",np.std(l1))\n",
    "print(\"variance of l1: \",np.var(l1))\n",
    "print(\"25th quartile of l1\",np.quantile(l1,q=0.25))\n",
    "l2=[1,2,3,4,600]#list with an outlier\n",
    "print(\"mean of l2: \",np.mean(l2))\n",
    "print(\"median of l2: \",np.median(l2))\n",
    "print(\"std deviation of l2: \",np.std(l2))\n",
    "print(\"variance of l2: \",np.var(l2))\n",
    "print(\"75th quartile of l2: \",np.quantile(l2,q=0.75))"
   ]
  },
  {
   "cell_type": "code",
   "execution_count": 49,
   "id": "18637ee0",
   "metadata": {},
   "outputs": [
    {
     "name": "stdout",
     "output_type": "stream",
     "text": [
      "Series([], dtype: object)\n",
      "0    1.0\n",
      "1    2.0\n",
      "2    3.0\n",
      "3    4.0\n",
      "Name: class, dtype: float64\n",
      "1    1\n",
      "2    2\n",
      "3    3\n",
      "4    4\n",
      "dtype: int64\n",
      "a    1\n",
      "b    2\n",
      "c    3\n",
      "d    4\n",
      "dtype: int64\n",
      "1    1\n",
      "2    2\n",
      "3    3\n",
      "dtype: int64\n",
      "2    2\n",
      "3    3\n",
      "4    4\n",
      "dtype: int64\n",
      "3\n",
      "2\n",
      "b    2\n",
      "c    3\n",
      "dtype: int64\n",
      "a    1\n",
      "b    2\n",
      "c    3\n",
      "dtype: int64\n"
     ]
    },
    {
     "ename": "KeyError",
     "evalue": "'arun'",
     "output_type": "error",
     "traceback": [
      "\u001b[0;31m---------------------------------------------------------------------------\u001b[0m",
      "\u001b[0;31mKeyError\u001b[0m                                  Traceback (most recent call last)",
      "File \u001b[0;32m~/anaconda3/lib/python3.11/site-packages/pandas/core/indexes/base.py:3653\u001b[0m, in \u001b[0;36mIndex.get_loc\u001b[0;34m(self, key)\u001b[0m\n\u001b[1;32m   3652\u001b[0m \u001b[38;5;28;01mtry\u001b[39;00m:\n\u001b[0;32m-> 3653\u001b[0m     \u001b[38;5;28;01mreturn\u001b[39;00m \u001b[38;5;28mself\u001b[39m\u001b[38;5;241m.\u001b[39m_engine\u001b[38;5;241m.\u001b[39mget_loc(casted_key)\n\u001b[1;32m   3654\u001b[0m \u001b[38;5;28;01mexcept\u001b[39;00m \u001b[38;5;167;01mKeyError\u001b[39;00m \u001b[38;5;28;01mas\u001b[39;00m err:\n",
      "File \u001b[0;32m~/anaconda3/lib/python3.11/site-packages/pandas/_libs/index.pyx:147\u001b[0m, in \u001b[0;36mpandas._libs.index.IndexEngine.get_loc\u001b[0;34m()\u001b[0m\n",
      "File \u001b[0;32m~/anaconda3/lib/python3.11/site-packages/pandas/_libs/index.pyx:155\u001b[0m, in \u001b[0;36mpandas._libs.index.IndexEngine.get_loc\u001b[0;34m()\u001b[0m\n",
      "File \u001b[0;32mpandas/_libs/index_class_helper.pxi:70\u001b[0m, in \u001b[0;36mpandas._libs.index.Int64Engine._check_type\u001b[0;34m()\u001b[0m\n",
      "\u001b[0;31mKeyError\u001b[0m: 'arun'",
      "\nThe above exception was the direct cause of the following exception:\n",
      "\u001b[0;31mKeyError\u001b[0m                                  Traceback (most recent call last)",
      "Cell \u001b[0;32mIn[49], line 21\u001b[0m\n\u001b[1;32m     19\u001b[0m \u001b[38;5;28mprint\u001b[39m(s3[[\u001b[38;5;124m\"\u001b[39m\u001b[38;5;124ma\u001b[39m\u001b[38;5;124m\"\u001b[39m,\u001b[38;5;124m\"\u001b[39m\u001b[38;5;124mb\u001b[39m\u001b[38;5;124m\"\u001b[39m,\u001b[38;5;124m\"\u001b[39m\u001b[38;5;124mc\u001b[39m\u001b[38;5;124m\"\u001b[39m]])\n\u001b[1;32m     20\u001b[0m s4\u001b[38;5;241m=\u001b[39mpd\u001b[38;5;241m.\u001b[39mSeries({\u001b[38;5;241m1\u001b[39m:\u001b[38;5;124m\"\u001b[39m\u001b[38;5;124marun\u001b[39m\u001b[38;5;124m\"\u001b[39m,\u001b[38;5;241m2\u001b[39m:\u001b[38;5;124m\"\u001b[39m\u001b[38;5;124mvarun\u001b[39m\u001b[38;5;124m\"\u001b[39m,\u001b[38;5;241m3\u001b[39m:\u001b[38;5;124m\"\u001b[39m\u001b[38;5;124mgobind\u001b[39m\u001b[38;5;124m\"\u001b[39m})\n\u001b[0;32m---> 21\u001b[0m \u001b[38;5;28mprint\u001b[39m(s4[\u001b[38;5;124m\"\u001b[39m\u001b[38;5;124marun\u001b[39m\u001b[38;5;124m\"\u001b[39m])\n",
      "File \u001b[0;32m~/anaconda3/lib/python3.11/site-packages/pandas/core/series.py:1007\u001b[0m, in \u001b[0;36mSeries.__getitem__\u001b[0;34m(self, key)\u001b[0m\n\u001b[1;32m   1004\u001b[0m     \u001b[38;5;28;01mreturn\u001b[39;00m \u001b[38;5;28mself\u001b[39m\u001b[38;5;241m.\u001b[39m_values[key]\n\u001b[1;32m   1006\u001b[0m \u001b[38;5;28;01melif\u001b[39;00m key_is_scalar:\n\u001b[0;32m-> 1007\u001b[0m     \u001b[38;5;28;01mreturn\u001b[39;00m \u001b[38;5;28mself\u001b[39m\u001b[38;5;241m.\u001b[39m_get_value(key)\n\u001b[1;32m   1009\u001b[0m \u001b[38;5;28;01mif\u001b[39;00m is_hashable(key):\n\u001b[1;32m   1010\u001b[0m     \u001b[38;5;66;03m# Otherwise index.get_value will raise InvalidIndexError\u001b[39;00m\n\u001b[1;32m   1011\u001b[0m     \u001b[38;5;28;01mtry\u001b[39;00m:\n\u001b[1;32m   1012\u001b[0m         \u001b[38;5;66;03m# For labels that don't resolve as scalars like tuples and frozensets\u001b[39;00m\n",
      "File \u001b[0;32m~/anaconda3/lib/python3.11/site-packages/pandas/core/series.py:1116\u001b[0m, in \u001b[0;36mSeries._get_value\u001b[0;34m(self, label, takeable)\u001b[0m\n\u001b[1;32m   1113\u001b[0m     \u001b[38;5;28;01mreturn\u001b[39;00m \u001b[38;5;28mself\u001b[39m\u001b[38;5;241m.\u001b[39m_values[label]\n\u001b[1;32m   1115\u001b[0m \u001b[38;5;66;03m# Similar to Index.get_value, but we do not fall back to positional\u001b[39;00m\n\u001b[0;32m-> 1116\u001b[0m loc \u001b[38;5;241m=\u001b[39m \u001b[38;5;28mself\u001b[39m\u001b[38;5;241m.\u001b[39mindex\u001b[38;5;241m.\u001b[39mget_loc(label)\n\u001b[1;32m   1118\u001b[0m \u001b[38;5;28;01mif\u001b[39;00m is_integer(loc):\n\u001b[1;32m   1119\u001b[0m     \u001b[38;5;28;01mreturn\u001b[39;00m \u001b[38;5;28mself\u001b[39m\u001b[38;5;241m.\u001b[39m_values[loc]\n",
      "File \u001b[0;32m~/anaconda3/lib/python3.11/site-packages/pandas/core/indexes/base.py:3655\u001b[0m, in \u001b[0;36mIndex.get_loc\u001b[0;34m(self, key)\u001b[0m\n\u001b[1;32m   3653\u001b[0m     \u001b[38;5;28;01mreturn\u001b[39;00m \u001b[38;5;28mself\u001b[39m\u001b[38;5;241m.\u001b[39m_engine\u001b[38;5;241m.\u001b[39mget_loc(casted_key)\n\u001b[1;32m   3654\u001b[0m \u001b[38;5;28;01mexcept\u001b[39;00m \u001b[38;5;167;01mKeyError\u001b[39;00m \u001b[38;5;28;01mas\u001b[39;00m err:\n\u001b[0;32m-> 3655\u001b[0m     \u001b[38;5;28;01mraise\u001b[39;00m \u001b[38;5;167;01mKeyError\u001b[39;00m(key) \u001b[38;5;28;01mfrom\u001b[39;00m \u001b[38;5;21;01merr\u001b[39;00m\n\u001b[1;32m   3656\u001b[0m \u001b[38;5;28;01mexcept\u001b[39;00m \u001b[38;5;167;01mTypeError\u001b[39;00m:\n\u001b[1;32m   3657\u001b[0m     \u001b[38;5;66;03m# If we have a listlike key, _check_indexing_error will raise\u001b[39;00m\n\u001b[1;32m   3658\u001b[0m     \u001b[38;5;66;03m#  InvalidIndexError. Otherwise we fall through and re-raise\u001b[39;00m\n\u001b[1;32m   3659\u001b[0m     \u001b[38;5;66;03m#  the TypeError.\u001b[39;00m\n\u001b[1;32m   3660\u001b[0m     \u001b[38;5;28mself\u001b[39m\u001b[38;5;241m.\u001b[39m_check_indexing_error(key)\n",
      "\u001b[0;31mKeyError\u001b[0m: 'arun'"
     ]
    }
   ],
   "source": [
    "#different ways to create a series\n",
    "#Series is a one-dimensional data structure that stores data of a similar kind. It is a column of a dataframe.\n",
    "#A series does not have column lables as it is a single column of a dataframe. It does have row labels.\n",
    "import pandas as pd\n",
    "import numpy as np\n",
    "s=pd.Series() #using empty series\n",
    "print(s)\n",
    "s1=pd.Series([1,2,3,4],name=\"class\",dtype=\"float64\") #using list\n",
    "print(s1)\n",
    "s2=pd.Series(np.array((1,2,3,4)),index=[\"1\",\"2\",\"3\",\"4\"]) #using an array\n",
    "print(s2)\n",
    "s3=pd.Series({\"a\":1,\"b\":2,\"c\":3,\"d\":4})  #using dictionary\n",
    "print(s3)\n",
    "print(s2.head(3))\n",
    "print(s2.tail(3))\n",
    "print(s2[2])\n",
    "print(s3[\"b\"])\n",
    "print(s3[1:3])\n",
    "print(s3[[\"a\",\"b\",\"c\"]])\n",
    "s4=pd.Series({1:\"arun\",2:\"varun\",3:\"gobind\"})\n"
   ]
  },
  {
   "cell_type": "code",
   "execution_count": 16,
   "id": "13f4052b",
   "metadata": {},
   "outputs": [
    {
     "name": "stdout",
     "output_type": "stream",
     "text": [
      "  name  age  marks      city\n",
      "0   ab   21     90     delhi\n",
      "1   cd   30     80   shilong\n",
      "2   ef   25     78  mussorie\n",
      "dataframe using a tuple:     0  1        2\n",
      "0  1  a    delhi\n",
      "1  2  b   mumbai\n",
      "2  3  c  shilong\n",
      "0      delhi\n",
      "1     mumbai\n",
      "2    shilong\n",
      "Name: 2, dtype: object\n"
     ]
    }
   ],
   "source": [
    "import pandas as pd\n",
    "import numpy as np\n",
    "#A dataframe is a 2 dimensional data structure that stores data of different types including integer,floating point numbers,\n",
    "#characters,strings etc. It is a tabular representation of data and is similar to a spreadsheet or a sql table.\n",
    "#different ways of creating an array\n",
    "#1. loading an excel file\n",
    "# df=pd.read_excel(path)\n",
    "# df=pd.DataFrame(df)\n",
    "#2. loading data from a csv file\n",
    "# df=pd.read_csv(path)\n",
    "# df=pd.DtaFrame(df)\n",
    "#3. using a dictionary\n",
    "df=pd.DataFrame({\"name\":[\"ab\",\"cd\",\"ef\"],\"age\":[21,30,25],\"marks\":[90,80,78]})\n",
    "df[\"city\"]=[\"delhi\",\"shilong\",\"mussorie\"]\n",
    "print(df)\n",
    "#4 using a list of tuples\n",
    "df=pd.DataFrame([(1,\"a\",\"delhi\"),(2,\"b\",\"mumbai\"),(3,\"c\",\"shilong\")])\n",
    "print(\"dataframe using a tuple: \",df)\n",
    "print(df[2])"
   ]
  },
  {
   "cell_type": "code",
   "execution_count": 31,
   "id": "fef9c872",
   "metadata": {},
   "outputs": [
    {
     "name": "stdout",
     "output_type": "stream",
     "text": [
      "  name  age  marks\n",
      "1   cd   30     80\n",
      "2   ef   25     78\n",
      "  name  age  marks\n",
      "0   ab   21     90\n",
      "name     cd\n",
      "age      30\n",
      "marks    80\n",
      "Name: 1, dtype: object\n",
      "  name  age\n",
      "1   cd   30\n",
      "2   ef   25\n",
      "  name  age  marks\n",
      "0   ab   21     90\n",
      "1   cd   30     80\n"
     ]
    }
   ],
   "source": [
    "import pandas as pd\n",
    "import numpy as np\n",
    "df=pd.DataFrame({\"name\":[\"ab\",\"cd\",\"ef\"],\"age\":[21,30,25],\"marks\":[90,80,78]})\n",
    "print(df.loc[[1,2]])\n",
    "print(df.loc[df[\"name\"]==\"ab\"])\n",
    "print(df.iloc[1])\n",
    "print(df.iloc[1:3,0:2])\n",
    "print(df.loc[0:1])"
   ]
  },
  {
   "cell_type": "code",
   "execution_count": 39,
   "id": "fbe6e2b1",
   "metadata": {},
   "outputs": [
    {
     "name": "stdout",
     "output_type": "stream",
     "text": [
      "[16 20]\n",
      "[105 384]\n",
      "[-8 -8 -8 -8]\n",
      "[[ 9 11 13 15]\n",
      " [10 12 14 16]]\n"
     ]
    }
   ],
   "source": [
    "arr1=np.array([(1,2),(3,4),(5,6),(7,8)])\n",
    "arr2=np.array([(9,10),(11,12),(13,14),(15,16)])\n",
    "print(np.sum(arr1,axis=0))\n",
    "print(np.prod(arr1,axis=0))\n",
    "print(np.cross(arr1,arr2))\n",
    "print(np.transpose(arr2))\n"
   ]
  },
  {
   "cell_type": "code",
   "execution_count": 50,
   "id": "ef4ccf1b",
   "metadata": {},
   "outputs": [
    {
     "name": "stdout",
     "output_type": "stream",
     "text": [
      "   DayOfWeek  Rainfall\n",
      "0     Monday       0.5\n",
      "1    Tuesday       0.8\n",
      "2  Wednesday       0.2\n",
      "3   Thursday       0.0\n",
      "4     Friday       1.2\n",
      "5   Saturday       0.7\n",
      "6     Sunday       0.3\n",
      "\n",
      "Statistics for Rainfall:\n",
      "Maximum Rainfall: 1.2 inches\n",
      "Minimum Rainfall: 0.0 inches\n",
      "Q1 (25th percentile): 0.25 inches\n",
      "Q2 (Median, 50th percentile): 0.5 inches\n",
      "Q3 (75th percentile): 0.75 inches\n",
      "Standard Deviation of Rainfall: 0.4070801956792859 inches\n"
     ]
    }
   ],
   "source": [
    "import pandas as pd\n",
    "import numpy as np\n",
    "\n",
    "# Sample dataframe (replace this with your actual dataframe)\n",
    "data = {\n",
    "    'DayOfWeek': ['Monday', 'Tuesday', 'Wednesday', 'Thursday', 'Friday', 'Saturday', 'Sunday'],\n",
    "    'Rainfall': [0.5, 0.8, 0.2, 0.0, 1.2, 0.7, 0.3]\n",
    "}\n",
    "\n",
    "df = pd.DataFrame(data)\n",
    "print(df)\n",
    "\n",
    "# Calculating statistics\n",
    "maximum_rainfall = df['Rainfall'].max()\n",
    "minimum_rainfall = df['Rainfall'].min()\n",
    "q1_rainfall = df['Rainfall'].quantile(0.25)\n",
    "q2_rainfall = df['Rainfall'].quantile(0.5)  # Median (Q2)\n",
    "q3_rainfall = df['Rainfall'].quantile(0.75)\n",
    "std_dev_rainfall = df['Rainfall'].std()\n",
    "\n",
    "print(\"\\nStatistics for Rainfall:\")\n",
    "print(f\"Maximum Rainfall: {maximum_rainfall} inches\")\n",
    "print(f\"Minimum Rainfall: {minimum_rainfall} inches\")\n",
    "print(f\"Q1 (25th percentile): {q1_rainfall} inches\")\n",
    "print(f\"Q2 (Median, 50th percentile): {q2_rainfall} inches\")\n",
    "print(f\"Q3 (75th percentile): {q3_rainfall} inches\")\n",
    "print(f\"Standard Deviation of Rainfall: {std_dev_rainfall} inches\")\n"
   ]
  },
  {
   "cell_type": "code",
   "execution_count": null,
   "id": "3ff8d671",
   "metadata": {},
   "outputs": [],
   "source": []
  }
 ],
 "metadata": {
  "kernelspec": {
   "display_name": "Python 3 (ipykernel)",
   "language": "python",
   "name": "python3"
  },
  "language_info": {
   "codemirror_mode": {
    "name": "ipython",
    "version": 3
   },
   "file_extension": ".py",
   "mimetype": "text/x-python",
   "name": "python",
   "nbconvert_exporter": "python",
   "pygments_lexer": "ipython3",
   "version": "3.11.5"
  }
 },
 "nbformat": 4,
 "nbformat_minor": 5
}
